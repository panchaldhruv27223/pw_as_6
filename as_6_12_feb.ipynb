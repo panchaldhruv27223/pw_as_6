{
 "cells": [
  {
   "cell_type": "markdown",
   "id": "39eafa7a",
   "metadata": {},
   "source": [
    "Q1. What is an Exception in python? Write the difference beetween Exceptions and syntax errors."
   ]
  },
  {
   "cell_type": "code",
   "execution_count": null,
   "id": "1c833350",
   "metadata": {},
   "outputs": [],
   "source": [
    "Exceptions  : \n",
    "    Exceptions are raise when internal events occure. Exceptions are alredy known situation which means if we know that in that \n",
    "    situation that type of problem may be ocuure then we called as exception. Exceptions are the runtime error. it is also\n",
    "    called logical error. exception we can raise . exception we can handle easyly \n",
    "\n",
    "Syntex error : \n",
    "    Syntex error are the errors that occure because of we write wrong syntex or we can say we dont follow proper language syntex \n",
    "    \n",
    "the main difference between Exceptions and SyntaxError is that Exceptions are handled but syntex error can not be handled \n",
    "syntex error are the not depends on situation it definetly wrong but exception are depend on situation it is a logical error \n",
    "if our programe hve syntex error it can not wrok and our code can not compile \n",
    "but if our program have exception so exception can be handled at run time "
   ]
  },
  {
   "cell_type": "markdown",
   "id": "69bf0e33",
   "metadata": {},
   "source": [
    "Q2. What happens when an exception is not hndled? Explain with an example?"
   ]
  },
  {
   "cell_type": "code",
   "execution_count": null,
   "id": "cf823db3",
   "metadata": {},
   "outputs": [],
   "source": [
    "ans :\n",
    "    if we didn't handled exception then our program give error and stop working .so it is necessary to handle exception \n",
    "    in propar maner.\n"
   ]
  },
  {
   "cell_type": "code",
   "execution_count": 5,
   "id": "6a9d8eb9",
   "metadata": {
    "scrolled": true
   },
   "outputs": [
    {
     "ename": "ZeroDivisionError",
     "evalue": "division by zero",
     "output_type": "error",
     "traceback": [
      "\u001b[1;31m---------------------------------------------------------------------------\u001b[0m",
      "\u001b[1;31mZeroDivisionError\u001b[0m                         Traceback (most recent call last)",
      "Cell \u001b[1;32mIn[5], line 1\u001b[0m\n\u001b[1;32m----> 1\u001b[0m a \u001b[38;5;241m=\u001b[39m \u001b[38;5;241;43m1\u001b[39;49m\u001b[38;5;241;43m/\u001b[39;49m\u001b[38;5;241;43m0\u001b[39;49m\n\u001b[0;32m      3\u001b[0m \u001b[38;5;28mprint\u001b[39m(\u001b[38;5;124m\"\u001b[39m\u001b[38;5;124mhello this is dhruv\u001b[39m\u001b[38;5;124m\"\u001b[39m)\n",
      "\u001b[1;31mZeroDivisionError\u001b[0m: division by zero"
     ]
    }
   ],
   "source": [
    "# EX\n",
    "\n",
    "a = 1/0\n",
    "\n",
    "print(\"hello this is dhruv\")"
   ]
  },
  {
   "cell_type": "code",
   "execution_count": 6,
   "id": "93d45f3d",
   "metadata": {},
   "outputs": [
    {
     "name": "stdout",
     "output_type": "stream",
     "text": [
      "division by zero\n",
      "hello !!!...\n"
     ]
    }
   ],
   "source": [
    "try :\n",
    "    a = 1/0\n",
    "except ZeroDivisionError as e:\n",
    "    print(e)\n",
    "    \n",
    "print(\"hello !!!...\")"
   ]
  },
  {
   "cell_type": "markdown",
   "id": "9e22eb8c",
   "metadata": {},
   "source": [
    "Q3. Which Python statements are used to catch and handle exceptions? Explain with an example?"
   ]
  },
  {
   "cell_type": "code",
   "execution_count": null,
   "id": "4e55be37",
   "metadata": {},
   "outputs": [],
   "source": [
    "in our program block of code which may be give error, this type of block we put in try block \n",
    "so when error(exception) occure we can handle through except block. except is used to handle and catch exception which occure in try block "
   ]
  },
  {
   "cell_type": "code",
   "execution_count": 1,
   "id": "ca347712",
   "metadata": {
    "scrolled": true
   },
   "outputs": [
    {
     "name": "stdout",
     "output_type": "stream",
     "text": [
      "welcome to data science world\n"
     ]
    }
   ],
   "source": [
    "import logging\n",
    "logging.basicConfig(filename=\"Error.log\",format=\"%(asctime)s %(name)s %(levelname)s %(message)s\", level=logging.ERROR )\n",
    "\n",
    "try :\n",
    "    print(\"welcome to data science world\")\n",
    "    f = open(\"dhruv.txt\", \"r\")\n",
    "except FileNotFoundError as e :\n",
    "    logging.error(e)"
   ]
  },
  {
   "cell_type": "markdown",
   "id": "08489a8d",
   "metadata": {},
   "source": [
    "Q4. Explin with an example:\n",
    "\n",
    "a)  try and else\n",
    "b)  finall\n",
    "c)  raise"
   ]
  },
  {
   "cell_type": "code",
   "execution_count": 2,
   "id": "b5b2f13b",
   "metadata": {},
   "outputs": [
    {
     "name": "stdout",
     "output_type": "stream",
     "text": [
      "Enter an age :27\n",
      "you have to do something\n",
      "nice job dhruv\n"
     ]
    }
   ],
   "source": [
    "try:\n",
    "    age = int(input(\"Enter an age :\"))\n",
    "    \n",
    "    if age<18 :\n",
    "        print(\"you have to focus on study\")\n",
    "    elif (age>18 & age<28):\n",
    "        print(\"you have to do something\")\n",
    "    elif(age>28 & age<32):\n",
    "        print(\"go and do marriage\")\n",
    "    else :\n",
    "        print(\"take care of your family\")\n",
    "        \n",
    "except Exception as e :\n",
    "    print(e)\n",
    "else :\n",
    "    print(\"nice job dhruv\")"
   ]
  },
  {
   "cell_type": "code",
   "execution_count": 3,
   "id": "92b5a9b1",
   "metadata": {},
   "outputs": [
    {
     "name": "stdout",
     "output_type": "stream",
     "text": [
      "enter a num2\n",
      "enter a num20\n",
      "division by zero\n",
      "this block of code is always execute ....\n"
     ]
    }
   ],
   "source": [
    "try :\n",
    "    num1  = int(input(\"enter a num\"))\n",
    "    num2 = int(input(\"enter a num2\"))\n",
    "    \n",
    "    ans  = num1/num2 \n",
    "except ZeroDivisionError as e :\n",
    "    print(e)\n",
    "finally:\n",
    "    print(\"this block of code is always execute ....\")"
   ]
  },
  {
   "cell_type": "code",
   "execution_count": 10,
   "id": "f61963a5",
   "metadata": {},
   "outputs": [
    {
     "name": "stdout",
     "output_type": "stream",
     "text": [
      "Enter age : \n",
      "Enter a number between 1 to 18  invalid literal for int() with base 10: ''\n"
     ]
    }
   ],
   "source": [
    "class err(Exception):\n",
    "    def __init__(self,msg):\n",
    "        self.message = msg\n",
    "\n",
    "try :\n",
    "    age1 = int(input(\"Enter age : \"))\n",
    "    if  age1 >25 :\n",
    "        raise err(\"enter a age less then 18\")\n",
    "    else :\n",
    "        print(\"your entered age :\",age1)\n",
    "except ValueError as e:\n",
    "    print(\"Enter a number between 1 to 18 \", e)\n",
    "except err as e:\n",
    "    print(e)"
   ]
  },
  {
   "cell_type": "markdown",
   "id": "c9d230b0",
   "metadata": {},
   "source": [
    "Q5. What are Custom Exceptions in python? Why do we need Custom Exceptions? Explain with an example?"
   ]
  },
  {
   "cell_type": "code",
   "execution_count": null,
   "id": "d2a6fa6d",
   "metadata": {},
   "outputs": [],
   "source": [
    "custom exception are user defined exception. \n",
    "custom exceptoin are raied with specific perpose.   \n",
    "Exception are base class Exception class contain general exception but if we want to raise our exception we can say if we want \n",
    "to raise some exception if certain condition occure then we just create custom exception.\n",
    "this make our code more readable and more understanding give about your code \n",
    "we simple understand what problem or exception may be occure \n",
    "costum exception class simply inheritate Exception class "
   ]
  },
  {
   "cell_type": "code",
   "execution_count": null,
   "id": "fa1d0d0d",
   "metadata": {},
   "outputs": [],
   "source": [
    "class err(Exception):\n",
    "    def __init__(self,msg):\n",
    "        self.message = msg\n",
    "\n",
    "try :\n",
    "    age1 = int(input(\"Enter age : \"))\n",
    "    if  age1 >25 :\n",
    "        raise err(\"enter a age less then 18\")\n",
    "    else :\n",
    "        print(\"your entered age :\",age1)\n",
    "except ValueError as e:\n",
    "    print(\"Enter a number between 1 to 18 \", e)\n",
    "except err as e:\n",
    "    print(e)"
   ]
  },
  {
   "cell_type": "code",
   "execution_count": null,
   "id": "2da0b96f",
   "metadata": {},
   "outputs": [],
   "source": [
    "if we pass age >18 then it raise an exception \n",
    "so this is a custom exception"
   ]
  },
  {
   "cell_type": "markdown",
   "id": "9b2ee48e",
   "metadata": {},
   "source": [
    "Q.6 Create custom exception class. Use this class to handle an exception."
   ]
  },
  {
   "cell_type": "code",
   "execution_count": 15,
   "id": "bc561d53",
   "metadata": {},
   "outputs": [
    {
     "name": "stdout",
     "output_type": "stream",
     "text": [
      "enter a salary : -696\n",
      "enter a valid salary.\n"
     ]
    }
   ],
   "source": [
    "class excp(Exception):\n",
    "    def __init__(self,msg):\n",
    "        self.message = msg\n",
    "        \n",
    "try :\n",
    "    salary = int(input(\"enter a salary : \"))\n",
    "    if salary<0:\n",
    "        raise excp(\"enter a valid salary.\")\n",
    "    else :\n",
    "        print(\"you make good money\")\n",
    "except Exception as e:\n",
    "    print(e)"
   ]
  }
 ],
 "metadata": {
  "kernelspec": {
   "display_name": "Python 3 (ipykernel)",
   "language": "python",
   "name": "python3"
  },
  "language_info": {
   "codemirror_mode": {
    "name": "ipython",
    "version": 3
   },
   "file_extension": ".py",
   "mimetype": "text/x-python",
   "name": "python",
   "nbconvert_exporter": "python",
   "pygments_lexer": "ipython3",
   "version": "3.9.7"
  }
 },
 "nbformat": 4,
 "nbformat_minor": 5
}
